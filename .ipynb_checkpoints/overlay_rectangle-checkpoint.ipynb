{
 "cells": [
  {
   "cell_type": "markdown",
   "id": "78a1744b",
   "metadata": {},
   "source": [
    "## Overlay Rectangle"
   ]
  },
  {
   "cell_type": "markdown",
   "id": "1d960d2a",
   "metadata": {},
   "source": [
    "### Creating test images\n",
    "\n"
   ]
  },
  {
   "cell_type": "code",
   "execution_count": 1,
   "id": "217b24e8",
   "metadata": {},
   "outputs": [],
   "source": [
    "%matplotlib inline\n",
    "import cv2\n",
    "import numpy as np\n",
    "from matplotlib import pyplot as plt\n",
    "import time"
   ]
  },
  {
   "cell_type": "markdown",
   "id": "d113fd18",
   "metadata": {},
   "source": [
    "#### loading image\n",
    "\n",
    "loads image\n",
    "\n",
    "displays properties {height, width, channels}\n",
    "channels -> 3 for color image\n",
    "\n",
    "split image into blue, green and red sub-images\n",
    "\n",
    "##### note:\n",
    "\n",
    "OpenCV reads color channel in order *{blue, green, red}* ; \n",
    "reordering may be necessary to display image with imshow of matplotlib which expects different color order: *{red, green, blue}*)"
   ]
  },
  {
   "cell_type": "code",
   "execution_count": 3,
   "id": "00b2dd4e",
   "metadata": {},
   "outputs": [
    {
     "name": "stdout",
     "output_type": "stream",
     "text": [
      "height: 1080; width: 1920; channels: 3\n",
      "height: 1080; width: 1920; channels: 3\n"
     ]
    }
   ],
   "source": [
    "imgFile1 = \"img/img_indentical/img_jpg_ex1.jpg\"\n",
    "\n",
    "# reindexing images read from opencv method : wanted color ordering: RGB\n",
    "img1 = cv2.imread(imgFile1)\n",
    "img2 = np.zeros_like(img1)\n",
    "img2[:,:,:] = cv2.imread(imgFile1)[:,:,[2,1,0]]\n",
    "\n",
    "img3 = np.ndarray.copy(img1)\n",
    "img3[:,:,:] = img1[:,:,[2,1,0]]\n",
    "\n",
    "height, width, channels = img1.shape\n",
    "print(f\"height: {height}; width: {width}; channels: {channels}\")\n",
    "height, width, channels = img2.shape\n",
    "print(f\"height: {height}; width: {width}; channels: {channels}\")"
   ]
  },
  {
   "cell_type": "code",
   "execution_count": 4,
   "id": "21f89ad5",
   "metadata": {},
   "outputs": [
    {
     "data": {
      "text/plain": [
       "dtype('uint8')"
      ]
     },
     "execution_count": 4,
     "metadata": {},
     "output_type": "execute_result"
    }
   ],
   "source": [
    "img1.dtype"
   ]
  },
  {
   "cell_type": "code",
   "execution_count": 5,
   "id": "fe75f4cf",
   "metadata": {},
   "outputs": [
    {
     "data": {
      "text/plain": [
       "dtype('uint8')"
      ]
     },
     "execution_count": 5,
     "metadata": {},
     "output_type": "execute_result"
    }
   ],
   "source": [
    "img2.dtype"
   ]
  },
  {
   "cell_type": "code",
   "execution_count": 6,
   "id": "564a9a8b",
   "metadata": {},
   "outputs": [
    {
     "ename": "error",
     "evalue": "OpenCV(4.6.0) :-1: error: (-5:Bad argument) in function 'rectangle'\n> Overload resolution failed:\n>  - Layout of the output array img is incompatible with cv::Mat\n>  - Expected Ptr<cv::UMat> for argument 'img'\n>  - Layout of the output array img is incompatible with cv::Mat\n>  - Expected Ptr<cv::UMat> for argument 'img'\n",
     "output_type": "error",
     "traceback": [
      "\u001b[1;31m---------------------------------------------------------------------------\u001b[0m",
      "\u001b[1;31merror\u001b[0m                                     Traceback (most recent call last)",
      "Input \u001b[1;32mIn [6]\u001b[0m, in \u001b[0;36m<cell line: 5>\u001b[1;34m()\u001b[0m\n\u001b[0;32m      1\u001b[0m \u001b[38;5;66;03m# overlaying a rectangle\u001b[39;00m\n\u001b[0;32m      4\u001b[0m cv2\u001b[38;5;241m.\u001b[39mrectangle(img1, [\u001b[38;5;241m0\u001b[39m, \u001b[38;5;241m0\u001b[39m], [\u001b[38;5;241m300\u001b[39m, \u001b[38;5;241m400\u001b[39m], (\u001b[38;5;241m255\u001b[39m, \u001b[38;5;241m0\u001b[39m, \u001b[38;5;241m0\u001b[39m), \u001b[38;5;241m3\u001b[39m);\n\u001b[1;32m----> 5\u001b[0m \u001b[43mcv2\u001b[49m\u001b[38;5;241;43m.\u001b[39;49m\u001b[43mrectangle\u001b[49m\u001b[43m(\u001b[49m\u001b[43mimg2\u001b[49m\u001b[43m,\u001b[49m\u001b[43m \u001b[49m\u001b[43m[\u001b[49m\u001b[38;5;241;43m0\u001b[39;49m\u001b[43m,\u001b[49m\u001b[43m \u001b[49m\u001b[38;5;241;43m0\u001b[39;49m\u001b[43m]\u001b[49m\u001b[43m,\u001b[49m\u001b[43m \u001b[49m\u001b[43m[\u001b[49m\u001b[38;5;241;43m300\u001b[39;49m\u001b[43m,\u001b[49m\u001b[43m \u001b[49m\u001b[38;5;241;43m400\u001b[39;49m\u001b[43m]\u001b[49m\u001b[43m,\u001b[49m\u001b[43m \u001b[49m\u001b[43m(\u001b[49m\u001b[38;5;241;43m0\u001b[39;49m\u001b[43m,\u001b[49m\u001b[43m \u001b[49m\u001b[38;5;241;43m255\u001b[39;49m\u001b[43m,\u001b[49m\u001b[43m \u001b[49m\u001b[38;5;241;43m0\u001b[39;49m\u001b[43m)\u001b[49m\u001b[43m,\u001b[49m\u001b[43m \u001b[49m\u001b[38;5;241;43m3\u001b[39;49m\u001b[43m)\u001b[49m;\n\u001b[0;32m      6\u001b[0m cv2\u001b[38;5;241m.\u001b[39mrectangle(img3, [\u001b[38;5;241m0\u001b[39m, \u001b[38;5;241m0\u001b[39m], [\u001b[38;5;241m300\u001b[39m, \u001b[38;5;241m400\u001b[39m], (\u001b[38;5;241m0\u001b[39m, \u001b[38;5;241m0\u001b[39m, \u001b[38;5;241m255\u001b[39m), \u001b[38;5;241m3\u001b[39m)\n",
      "\u001b[1;31merror\u001b[0m: OpenCV(4.6.0) :-1: error: (-5:Bad argument) in function 'rectangle'\n> Overload resolution failed:\n>  - Layout of the output array img is incompatible with cv::Mat\n>  - Expected Ptr<cv::UMat> for argument 'img'\n>  - Layout of the output array img is incompatible with cv::Mat\n>  - Expected Ptr<cv::UMat> for argument 'img'\n"
     ]
    }
   ],
   "source": [
    "# overlaying a rectangle\n",
    "\n",
    "\n",
    "cv2.rectangle(img1, [0, 0], [300, 400], (255, 0, 0), 3);\n",
    "cv2.rectangle(img2, [0, 0], [300, 400], (0, 255, 0), 3);\n",
    "cv2.rectangle(img3, [0, 0], [300, 400], (0, 0, 255), 3);"
   ]
  },
  {
   "cell_type": "code",
   "execution_count": null,
   "id": "e41ac288",
   "metadata": {},
   "outputs": [],
   "source": [
    "fig1 = plt.figure(1, figsize=[12, 8])\n",
    "ax_f1_1 = fig1.add_subplot(1, 3, 1)\n",
    "ax_f1_1.imshow(img1)\n",
    "ax_f1_1.axis('off');\n",
    "\n",
    "ax_f1_2 = fig1.add_subplot(1, 3, 2)\n",
    "ax_f1_2.imshow(img2)\n",
    "ax_f1_2.axis('off');\n",
    "\n",
    "ax_f1_3 = fig1.add_subplot(1, 3, 3)\n",
    "ax_f1_3.imshow(img3)\n",
    "ax_f1_3.axis('off');"
   ]
  },
  {
   "cell_type": "code",
   "execution_count": null,
   "id": "f3ada5e9",
   "metadata": {},
   "outputs": [],
   "source": []
  }
 ],
 "metadata": {
  "kernelspec": {
   "display_name": "Python 3 (ipykernel)",
   "language": "python",
   "name": "python3"
  },
  "language_info": {
   "codemirror_mode": {
    "name": "ipython",
    "version": 3
   },
   "file_extension": ".py",
   "mimetype": "text/x-python",
   "name": "python",
   "nbconvert_exporter": "python",
   "pygments_lexer": "ipython3",
   "version": "3.10.6"
  }
 },
 "nbformat": 4,
 "nbformat_minor": 5
}
